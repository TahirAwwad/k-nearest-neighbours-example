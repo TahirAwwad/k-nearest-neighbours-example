{
 "cells": [
  {
   "cell_type": "markdown",
   "id": "e3f3e950",
   "metadata": {},
   "source": [
    "### Supervised Learning Knearestneighbors\n",
    "#### code of the book may be found here:\n",
    "https://github.com/amueller/introduction_to_ml_with_python/blob/master/02-supervised-learning.ipynb"
   ]
  },
  {
   "cell_type": "markdown",
   "id": "5726e62e",
   "metadata": {},
   "source": [
    "#### Underfitting :\n",
    "model rule is too simple, does not capture for all aspects of the data or data's variabliy. rule can not be generalised on test data. "
   ]
  },
  {
   "cell_type": "markdown",
   "id": "5f778039",
   "metadata": {},
   "source": [
    "#### Overfitting :\n",
    "Model rule is too specific and focused on each training data point, hence can not be gernalized on new test data"
   ]
  },
  {
   "cell_type": "markdown",
   "id": "f8af2710",
   "metadata": {},
   "source": [
    "#### Sweet spot :\n",
    "The model we aim to find that yields the best generalzation performance on test data.\n",
    "note that the larger variety of data points your dataset contains, the more complex a model you can use without overfitting "
   ]
  },
  {
   "cell_type": "markdown",
   "id": "b6fd020b",
   "metadata": {},
   "source": [
    "## implementation K-nearest neighbors classifier"
   ]
  },
  {
   "cell_type": "code",
   "execution_count": null,
   "id": "0f695f45",
   "metadata": {},
   "outputs": [],
   "source": [
    "# first split the data to training and test data\n",
    "from sklearn.model_selection import train_test_split\n",
    "X, y = mglearn.datasets.make_forge()\n",
    "\n",
    "# assign variable names to list elements\n",
    "X_train, X_test, y_train, y_test = train_test_split(X, y, random_state=0)\n",
    "# train_test_split returns a list of elements"
   ]
  },
  {
   "cell_type": "code",
   "execution_count": null,
   "id": "ee1296a3",
   "metadata": {},
   "outputs": [],
   "source": [
    "# set number of neighbors to 3\n",
    "from sklearn.neighbors import KNeighborsClassifier\n",
    "clf = KNeighborsClassifier(n_neighbors=3)"
   ]
  },
  {
   "cell_type": "code",
   "execution_count": null,
   "id": "58e33afd",
   "metadata": {},
   "outputs": [],
   "source": [
    "# fit / train data to training dataset\n",
    "clf.fit(X = X_train, y = y_train)"
   ]
  },
  {
   "cell_type": "code",
   "execution_count": null,
   "id": "9b10bfc0",
   "metadata": {},
   "outputs": [],
   "source": [
    "# predict labels from test dataset\n",
    "print(\"Test set predictions: \",(clf.predict(X_test)))\n"
   ]
  },
  {
   "cell_type": "code",
   "execution_count": null,
   "id": "6a48c170",
   "metadata": {},
   "outputs": [],
   "source": [
    "# Accuracy of predicted labels\n",
    "print(\"Test set accuracy: {}\".format(clf.score(X_test, y_test)))\n",
    "# use a place holder with .format to print 2 decimal accuracy\n",
    "print(\"Test set accuracy: {:.2f}\".format(clf.score(X_test, y_test)))\n"
   ]
  },
  {
   "cell_type": "markdown",
   "id": "70afb4dd",
   "metadata": {},
   "source": [
    "## implementation K-nearest neighbors regressor"
   ]
  },
  {
   "cell_type": "code",
   "execution_count": 16,
   "id": "57c2b16f",
   "metadata": {},
   "outputs": [
    {
     "name": "stdout",
     "output_type": "stream",
     "text": [
      "Test set predictions:\n",
      " [-0.05396539  0.35686046  1.13671923 -1.89415682 -1.13881398 -1.63113382\n",
      "  0.35686046  0.91241374 -0.44680446 -1.13881398]\n",
      "Test set R^2: 0.83\n"
     ]
    }
   ],
   "source": [
    "from sklearn.neighbors import KNeighborsRegressor\n",
    "from sklearn.model_selection import train_test_split\n",
    "\n",
    "# generate dataset\n",
    "X, y = mglearn.datasets.make_wave(n_samples=40)\n",
    "\n",
    "# split the wave dataset into a training and a test set\n",
    "X_train, X_test, y_train, y_test = train_test_split(X, y, random_state=0)\n",
    "\n",
    "# inisiate the model and set the number of neighbors to consider to 3\n",
    "reg = KNeighborsRegressor(n_neighbors=3)\n",
    "# fit the model using the training data and training targets\n",
    "reg.fit(X_train, y_train)\n",
    "\n",
    "# show the predicted values of test set\n",
    "print(\"Test set predictions:\\n\", reg.predict(X_test))\n",
    "\n",
    "# show goodness of fit measure R squared, determination coefficient\n",
    "print(\"Test set R^2: {:.2f}\".format(reg.score(X_test, y_test)))"
   ]
  },
  {
   "cell_type": "markdown",
   "id": "18042dff",
   "metadata": {},
   "source": [
    "### Summary: K-nearest neighbours strengths,weaknesses"
   ]
  },
  {
   "cell_type": "markdown",
   "id": "437bf969",
   "metadata": {},
   "source": [
    "* important parameters to the KNeighbors classifier:\n",
    "    - the number of neighbors\n",
    "    - how you measure distance between data points\n",
    "* Strengths:\n",
    "    - easy to understand\n",
    "    - reasonable performance without adjustments\n",
    "* Weaknesses:\n",
    "    - often not used in practice\n",
    "    - slow preictions with many samples\n",
    "    - inability to handle many features espacially sparse features with 0 value most of the time\n",
    "\n"
   ]
  },
  {
   "cell_type": "code",
   "execution_count": 17,
   "id": "d126f6fc",
   "metadata": {},
   "outputs": [],
   "source": [
    "# next Linear models , which have niether K-neighbours drawbacks"
   ]
  }
 ],
 "metadata": {
  "kernelspec": {
   "display_name": "Python 3",
   "language": "python",
   "name": "python3"
  },
  "language_info": {
   "codemirror_mode": {
    "name": "ipython",
    "version": 3
   },
   "file_extension": ".py",
   "mimetype": "text/x-python",
   "name": "python",
   "nbconvert_exporter": "python",
   "pygments_lexer": "ipython3",
   "version": "3.8.8"
  }
 },
 "nbformat": 4,
 "nbformat_minor": 5
}
